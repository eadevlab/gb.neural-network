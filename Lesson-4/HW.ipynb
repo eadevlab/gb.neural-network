{
 "cells": [
  {
   "cell_type": "markdown",
   "source": [
    "## Введение в нейронные сети\n",
    "### Урок 4. Сверточные нейронные сети\n",
    "\n",
    "\n",
    "1. Попробуйте улучшить точность распознавания образов cifar 10 сверточной нейронной сетью, рассмотренной на уроке. Приложите анализ с описанием того, что улучшает работу нейронной сети, а что ухудшает\n",
    "2. Опишите в анализе, какие изменения необходимо было бы внести в получившуюся нейронную сеть, если бы ей нужно было работать не с cifar10, а с MNIST, CIFAR100 и IMAGENET"
   ],
   "metadata": {
    "collapsed": false
   },
   "id": "6156c1761fa0b0f0"
  },
  {
   "cell_type": "code",
   "execution_count": 1,
   "outputs": [
    {
     "name": "stderr",
     "output_type": "stream",
     "text": [
      "2023-09-25 00:44:50.446007: I tensorflow/tsl/cuda/cudart_stub.cc:28] Could not find cuda drivers on your machine, GPU will not be used.\n",
      "2023-09-25 00:44:50.539792: I tensorflow/tsl/cuda/cudart_stub.cc:28] Could not find cuda drivers on your machine, GPU will not be used.\n",
      "2023-09-25 00:44:50.540814: I tensorflow/core/platform/cpu_feature_guard.cc:182] This TensorFlow binary is optimized to use available CPU instructions in performance-critical operations.\n",
      "To enable the following instructions: AVX2 FMA, in other operations, rebuild TensorFlow with the appropriate compiler flags.\n",
      "2023-09-25 00:44:51.712549: W tensorflow/compiler/tf2tensorrt/utils/py_utils.cc:38] TF-TRT Warning: Could not find TensorRT\n"
     ]
    }
   ],
   "source": [
    "import scipy.io as sio\n",
    "\n",
    "import numpy\n",
    "from tensorflow.keras.datasets import cifar10\n",
    "# from keras.datasets import cifar10\n",
    "from keras.models import Sequential\n",
    "from keras.layers import Dense\n",
    "from keras.layers import Dropout\n",
    "from keras.layers import Flatten\n",
    "from keras.constraints import max_norm\n",
    "from keras.optimizers import SGD\n",
    "from keras.layers import Conv2D, MaxPooling2D\n",
    "from keras import utils\n",
    "\n",
    "import numpy as np"
   ],
   "metadata": {
    "collapsed": false,
    "ExecuteTime": {
     "end_time": "2023-09-24T21:44:53.514380337Z",
     "start_time": "2023-09-24T21:44:49.516791842Z"
    }
   },
   "id": "68cc26e88e3db8e8"
  },
  {
   "cell_type": "code",
   "execution_count": 17,
   "outputs": [],
   "source": [
    "seed = 7\n",
    "numpy.random.seed(seed)\n",
    "\n",
    "# load data\n",
    "(X_train, y_train), (X_test, y_test) = cifar10.load_data()"
   ],
   "metadata": {
    "collapsed": false,
    "ExecuteTime": {
     "end_time": "2023-09-24T21:46:43.748823640Z",
     "start_time": "2023-09-24T21:46:43.281487620Z"
    }
   },
   "id": "13d4853e7a60780c"
  },
  {
   "cell_type": "code",
   "execution_count": 3,
   "outputs": [],
   "source": [
    "def normalize_data(features):\n",
    "    features = features.astype('float32')\n",
    "    features = features / 255\n",
    "    features = utils.to_categorical(features)\n",
    "    return features"
   ],
   "metadata": {
    "collapsed": false,
    "ExecuteTime": {
     "end_time": "2023-09-24T21:44:54.786849308Z",
     "start_time": "2023-09-24T21:44:54.750384574Z"
    }
   },
   "id": "1b335580d1f4ba20"
  },
  {
   "cell_type": "code",
   "execution_count": 27,
   "outputs": [],
   "source": [
    "def create_model(classes_cnt, input_shape):\n",
    "    model = Sequential()\n",
    "    model.add(Conv2D(32, (3, 3), input_shape=input_shape, activation='relu', padding='same'))\n",
    "    model.add(Dropout(0.2))\n",
    "    model.add(Conv2D(32, (3, 3), activation='relu', padding='same'))\n",
    "    # model.add(MaxPooling2D(pool_size=(2, 2)))\n",
    "    model.add(Conv2D(64, (3, 3), activation='relu', padding='same'))\n",
    "    model.add(Dropout(0.2))\n",
    "    model.add(Conv2D(64, (3, 3), activation='relu', padding='same'))\n",
    "    # model.add(MaxPooling2D(pool_size=(2, 2)))\n",
    "    model.add(Conv2D(128, (3, 3), activation='relu', padding='same'))\n",
    "    model.add(Dropout(0.2))\n",
    "    model.add(Conv2D(128, (3, 3), activation='relu', padding='same'))\n",
    "    # model.add(MaxPooling2D(pool_size=(2, 2)))\n",
    "    model.add(Flatten())\n",
    "    model.add(Dropout(0.2))\n",
    "    model.add(Dense(1024, activation='relu', kernel_constraint=max_norm(3)))\n",
    "    model.add(Dropout(0.2))\n",
    "    model.add(Dense(512, activation='relu', kernel_constraint=max_norm(3)))\n",
    "    model.add(Dropout(0.2))\n",
    "    model.add(Dense(classes_cnt, activation='softmax'))\n",
    "    return model"
   ],
   "metadata": {
    "collapsed": false,
    "ExecuteTime": {
     "end_time": "2023-09-24T21:48:31.163923131Z",
     "start_time": "2023-09-24T21:48:31.114976702Z"
    }
   },
   "id": "7486fa0efa4f1126"
  },
  {
   "cell_type": "code",
   "execution_count": 5,
   "outputs": [],
   "source": [
    "def compile_model(model, epochs: int, learning_rate: float = 0.01):\n",
    "    sgd = SGD(learning_rate=learning_rate, momentum=0.9)\n",
    "    model.compile(loss='categorical_crossentropy', optimizer=sgd, metrics=['accuracy'])\n",
    "    return model"
   ],
   "metadata": {
    "collapsed": false,
    "ExecuteTime": {
     "end_time": "2023-09-24T21:45:05.953472356Z",
     "start_time": "2023-09-24T21:45:05.927506905Z"
    }
   },
   "id": "d2a6910f015c687d"
  },
  {
   "cell_type": "code",
   "execution_count": 18,
   "outputs": [
    {
     "data": {
      "text/plain": "(2000, 32, 32, 3)"
     },
     "execution_count": 18,
     "metadata": {},
     "output_type": "execute_result"
    }
   ],
   "source": [
    "# Уменьшение выборки, а то обучение модели проходит крааайне долго\n",
    "X_train = X_train[0:2000]\n",
    "X_test = X_test[0:2000]\n",
    "y_train = y_train[:2000]\n",
    "y_test = y_test[:2000]\n",
    "X_train.shape"
   ],
   "metadata": {
    "collapsed": false,
    "ExecuteTime": {
     "end_time": "2023-09-24T21:46:46.855310069Z",
     "start_time": "2023-09-24T21:46:46.839861645Z"
    }
   },
   "id": "846fb4b92a009c22"
  },
  {
   "cell_type": "code",
   "execution_count": 19,
   "outputs": [],
   "source": [
    "X_train = normalize_data(X_train)\n",
    "X_test = normalize_data(X_test)"
   ],
   "metadata": {
    "collapsed": false,
    "ExecuteTime": {
     "end_time": "2023-09-24T21:46:48.923994406Z",
     "start_time": "2023-09-24T21:46:48.652490921Z"
    }
   },
   "id": "a89ea2ca03d3d702"
  },
  {
   "cell_type": "code",
   "execution_count": 20,
   "outputs": [],
   "source": [
    "y_train = utils.to_categorical(y_train)\n",
    "y_test = utils.to_categorical(y_test)"
   ],
   "metadata": {
    "collapsed": false,
    "ExecuteTime": {
     "end_time": "2023-09-24T21:46:50.513197334Z",
     "start_time": "2023-09-24T21:46:50.465900604Z"
    }
   },
   "id": "834219948a2f5569"
  },
  {
   "cell_type": "code",
   "execution_count": null,
   "outputs": [
    {
     "name": "stderr",
     "output_type": "stream",
     "text": [
      "2023-09-25 00:48:35.207407: W tensorflow/tsl/framework/cpu_allocator_impl.cc:83] Allocation of 1610612736 exceeds 10% of free system memory.\n",
      "2023-09-25 00:48:35.973547: W tensorflow/tsl/framework/cpu_allocator_impl.cc:83] Allocation of 1610612736 exceeds 10% of free system memory.\n",
      "2023-09-25 00:48:36.392013: W tensorflow/tsl/framework/cpu_allocator_impl.cc:83] Allocation of 1610612736 exceeds 10% of free system memory.\n"
     ]
    }
   ],
   "source": [
    "model = create_model(y_test.shape[1], X_train.shape[1:])"
   ],
   "metadata": {
    "collapsed": false,
    "ExecuteTime": {
     "start_time": "2023-09-24T21:48:34.975484691Z"
    }
   },
   "id": "6eb654c8d1a40550"
  },
  {
   "cell_type": "code",
   "execution_count": 1,
   "outputs": [
    {
     "ename": "NameError",
     "evalue": "name 'compile_model' is not defined",
     "output_type": "error",
     "traceback": [
      "\u001B[0;31m---------------------------------------------------------------------------\u001B[0m",
      "\u001B[0;31mNameError\u001B[0m                                 Traceback (most recent call last)",
      "Cell \u001B[0;32mIn[1], line 1\u001B[0m\n\u001B[0;32m----> 1\u001B[0m model \u001B[38;5;241m=\u001B[39m \u001B[43mcompile_model\u001B[49m(model, \u001B[38;5;241m10\u001B[39m)\n\u001B[1;32m      2\u001B[0m model\u001B[38;5;241m.\u001B[39msummary()\n",
      "\u001B[0;31mNameError\u001B[0m: name 'compile_model' is not defined"
     ]
    }
   ],
   "source": [
    "model = compile_model(model, 10)\n",
    "model.summary()"
   ],
   "metadata": {
    "collapsed": false,
    "ExecuteTime": {
     "end_time": "2023-09-24T21:57:51.384235627Z",
     "start_time": "2023-09-24T21:57:51.200354919Z"
    }
   },
   "id": "ee7d48d136285a20"
  },
  {
   "cell_type": "code",
   "execution_count": null,
   "outputs": [],
   "source": [
    "X_validation=X_test[0:100,:,:,:]\n",
    "X_test_=X_test[100:,:,:,:]\n",
    "\n",
    "y_validation=y_test[0:100]\n",
    "y_test_=y_test[100:]"
   ],
   "metadata": {
    "collapsed": false,
    "ExecuteTime": {
     "start_time": "2023-09-24T21:40:11.509999256Z"
    }
   },
   "id": "2d646038de093be5"
  },
  {
   "cell_type": "code",
   "execution_count": null,
   "outputs": [],
   "source": [
    "model.fit(X_train, y_train, validation_data=(X_validation, y_validation), epochs=10, batch_size=32)\n",
    "scores = model.evaluate(X_test_, y_test_, verbose=0)"
   ],
   "metadata": {
    "collapsed": false,
    "ExecuteTime": {
     "start_time": "2023-09-24T21:40:11.535445532Z"
    }
   },
   "id": "a15c9c46c6edd12"
  },
  {
   "cell_type": "code",
   "execution_count": null,
   "outputs": [],
   "source": [
    "# scores\n",
    "X_train[0].shape"
   ],
   "metadata": {
    "collapsed": false,
    "ExecuteTime": {
     "start_time": "2023-09-24T21:40:11.535676360Z"
    }
   },
   "id": "5bb303ac2ded16a6"
  }
 ],
 "metadata": {
  "kernelspec": {
   "display_name": "Python 3",
   "language": "python",
   "name": "python3"
  },
  "language_info": {
   "codemirror_mode": {
    "name": "ipython",
    "version": 2
   },
   "file_extension": ".py",
   "mimetype": "text/x-python",
   "name": "python",
   "nbconvert_exporter": "python",
   "pygments_lexer": "ipython2",
   "version": "2.7.6"
  }
 },
 "nbformat": 4,
 "nbformat_minor": 5
}
