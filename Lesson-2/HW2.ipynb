{
 "cells": [
  {
   "cell_type": "markdown",
   "source": [
    "## Введение в нейронные сети\n",
    "### Урок 2. Keras\n",
    "\n",
    "\n",
    "1. Попробуйте обучить, нейронную сеть на Keras (рассмотренную на уроке) на датасете MNIST с другими параметрами. Напишите в комментарии к уроку:\n",
    "2. Какого результата вы добились от нейросети?\n",
    "3. Что помогло вам улучшить её точность?\n",
    "4. Поработайте с документацией Keras. Попробуйте найти полезные команды Keras, неразобранные на уроке."
   ],
   "metadata": {
    "collapsed": false
   },
   "id": "e5c39d09030be5fd"
  },
  {
   "cell_type": "code",
   "execution_count": null,
   "outputs": [],
   "source": [
    "import numpy as np\n",
    "import pandas as pd\n",
    "\n",
    "from keras.datasets import fashion_mnist\n",
    "from keras.layers import Dense\n",
    "from keras.models import Sequential\n",
    "from keras.utils import to_categorical\n",
    "from scikeras.wrappers import KerasClassifier\n",
    "from sklearn.model_selection import GridSearchCV\n",
    "\n",
    "import matplotlib.pyplot as plt\n",
    "\n",
    "%matplotlib inline"
   ],
   "metadata": {
    "collapsed": false
   },
   "id": "162b3e9247b1c7bf"
  },
  {
   "cell_type": "code",
   "execution_count": 2,
   "outputs": [],
   "source": [
    "(X_train, y_train_labels), (X_test, y_test_labels) = fashion_mnist.load_data()"
   ],
   "metadata": {
    "collapsed": false,
    "ExecuteTime": {
     "end_time": "2023-09-16T21:19:39.822523318Z",
     "start_time": "2023-09-16T21:19:39.363877987Z"
    }
   },
   "id": "1ec6509030767c46"
  },
  {
   "cell_type": "code",
   "execution_count": 3,
   "outputs": [
    {
     "name": "stdout",
     "output_type": "stream",
     "text": [
      "(60000, 28, 28) (10000, 28, 28)\n",
      "(60000,)\n"
     ]
    }
   ],
   "source": [
    "print(X_train.shape, X_test.shape)\n",
    "print(y_train_labels.shape)"
   ],
   "metadata": {
    "collapsed": false,
    "ExecuteTime": {
     "end_time": "2023-09-16T21:19:39.865196603Z",
     "start_time": "2023-09-16T21:19:39.828878901Z"
    }
   },
   "id": "ceea8613de1b7cfc"
  },
  {
   "cell_type": "code",
   "execution_count": 4,
   "outputs": [
    {
     "data": {
      "text/plain": "<matplotlib.image.AxesImage at 0x7f987c670640>"
     },
     "execution_count": 4,
     "metadata": {},
     "output_type": "execute_result"
    },
    {
     "data": {
      "text/plain": "<Figure size 640x480 with 1 Axes>",
      "image/png": "[encoded data removed]"
     },
     "metadata": {},
     "output_type": "display_data"
    }
   ],
   "source": [
    "plt.imshow(X_train[0], cmap='gray')"
   ],
   "metadata": {
    "collapsed": false,
    "ExecuteTime": {
     "end_time": "2023-09-16T21:19:40.258485718Z",
     "start_time": "2023-09-16T21:19:39.838451591Z"
    }
   },
   "id": "417b37952031d0c4"
  },
  {
   "cell_type": "code",
   "execution_count": 5,
   "outputs": [
    {
     "data": {
      "text/plain": "array([9, 0, 0, ..., 3, 0, 5], dtype=uint8)"
     },
     "execution_count": 5,
     "metadata": {},
     "output_type": "execute_result"
    }
   ],
   "source": [
    "y_train_labels"
   ],
   "metadata": {
    "collapsed": false,
    "ExecuteTime": {
     "end_time": "2023-09-16T21:19:40.301093736Z",
     "start_time": "2023-09-16T21:19:40.260236217Z"
    }
   },
   "id": "4c692b01ad01b811"
  },
  {
   "cell_type": "code",
   "execution_count": 6,
   "outputs": [],
   "source": [
    "X_train = (X_train / 255)\n",
    "X_test = (X_test / 255)\n",
    "\n",
    "X_train = X_train.reshape((-1, 28 * 28))\n",
    "X_test = X_test.reshape((-1, 28 * 28))"
   ],
   "metadata": {
    "collapsed": false,
    "ExecuteTime": {
     "end_time": "2023-09-16T21:19:40.478990464Z",
     "start_time": "2023-09-16T21:19:40.271052003Z"
    }
   },
   "id": "ec5f9130573ba867"
  },
  {
   "cell_type": "code",
   "execution_count": 7,
   "outputs": [
    {
     "data": {
      "text/plain": "array([[0., 0., 0., ..., 0., 0., 1.],\n       [1., 0., 0., ..., 0., 0., 0.],\n       [1., 0., 0., ..., 0., 0., 0.],\n       ...,\n       [0., 0., 0., ..., 0., 0., 0.],\n       [1., 0., 0., ..., 0., 0., 0.],\n       [0., 0., 0., ..., 0., 0., 0.]], dtype=float32)"
     },
     "execution_count": 7,
     "metadata": {},
     "output_type": "execute_result"
    }
   ],
   "source": [
    "y_train = to_categorical(y_train_labels)\n",
    "y_test = to_categorical(y_test_labels)\n",
    "y_train"
   ],
   "metadata": {
    "collapsed": false,
    "ExecuteTime": {
     "end_time": "2023-09-16T21:19:40.511260022Z",
     "start_time": "2023-09-16T21:19:40.476729956Z"
    }
   },
   "id": "e30b777af3f31306"
  },
  {
   "cell_type": "code",
   "execution_count": null,
   "outputs": [],
   "source": [
    "model = Sequential([\n",
    "    Dense(64, input_shape=(28 * 28,), activation='relu'),\n",
    "    Dense(32, activation='relu'),\n",
    "    Dense(10, activation='sigmoid')\n",
    "])\n",
    "model.summary()\n",
    "model.compile(loss='categorical_crossentropy', optimizer='SGD', metrics=['accuracy'])\n",
    "model.fit(X_train, y_train,\n",
    "                    epochs=5,\n",
    "                    batch_size=64,\n",
    "                    verbose=1,\n",
    "                    validation_data=(X_test, y_test)\n",
    "                    )\n",
    "loss, metric = model.evaluate(X_test, y_test, batch_size=64)\n"
   ],
   "metadata": {
    "collapsed": false
   },
   "id": "909c73911898740b"
  },
  {
   "cell_type": "code",
   "execution_count": 9,
   "outputs": [
    {
     "data": {
      "text/plain": "0.4973938465118408"
     },
     "execution_count": 9,
     "metadata": {},
     "output_type": "execute_result"
    }
   ],
   "source": [
    "loss"
   ],
   "metadata": {
    "collapsed": false,
    "ExecuteTime": {
     "end_time": "2023-09-16T21:19:59.914729821Z",
     "start_time": "2023-09-16T21:19:59.891154930Z"
    }
   },
   "id": "b58718718c8c8116"
  },
  {
   "cell_type": "code",
   "execution_count": 10,
   "outputs": [
    {
     "data": {
      "text/plain": "0.8259000182151794"
     },
     "execution_count": 10,
     "metadata": {},
     "output_type": "execute_result"
    }
   ],
   "source": [
    "metric"
   ],
   "metadata": {
    "collapsed": false,
    "ExecuteTime": {
     "end_time": "2023-09-16T21:20:00.037924777Z",
     "start_time": "2023-09-16T21:19:59.941172743Z"
    }
   },
   "id": "35cc92e2647f57f6"
  },
  {
   "cell_type": "markdown",
   "source": [
    "Попробуем затюнить параметры"
   ],
   "metadata": {
    "collapsed": false
   },
   "id": "155fc738a9017405"
  },
  {
   "cell_type": "code",
   "execution_count": 11,
   "outputs": [],
   "source": [
    "params = {\n",
    "    'batch_size': [64, 128, 256],\n",
    "    'epochs': [10, 20, 30],\n",
    "    'optimizer': ['SGD', 'Adam', 'RMSprop'] \n",
    "}"
   ],
   "metadata": {
    "collapsed": false,
    "ExecuteTime": {
     "end_time": "2023-09-16T21:20:00.042685352Z",
     "start_time": "2023-09-16T21:19:59.942253135Z"
    }
   },
   "id": "21e0166efcff6bc0"
  },
  {
   "cell_type": "code",
   "execution_count": 12,
   "outputs": [],
   "source": [
    "def build_clf():\n",
    "    model = Sequential([\n",
    "        Dense(64, input_shape=(28 * 28,), activation='relu'),\n",
    "        Dense(32, activation='relu'),\n",
    "        Dense(10, activation='sigmoid')\n",
    "    ])\n",
    "    model.compile(loss='categorical_crossentropy', optimizer='Adam', metrics=['accuracy'])\n",
    "    return model"
   ],
   "metadata": {
    "collapsed": false,
    "ExecuteTime": {
     "end_time": "2023-09-16T21:20:00.055947789Z",
     "start_time": "2023-09-16T21:19:59.989282096Z"
    }
   },
   "id": "13beab0d033daa6b"
  },
  {
   "cell_type": "code",
   "execution_count": 13,
   "outputs": [],
   "source": [
    "model = KerasClassifier(build_clf)\n",
    "cv = GridSearchCV(model, params, refit=False, scoring='accuracy', n_jobs=5)"
   ],
   "metadata": {
    "collapsed": false,
    "ExecuteTime": {
     "end_time": "2023-09-16T21:20:00.057081468Z",
     "start_time": "2023-09-16T21:19:59.989753502Z"
    }
   },
   "id": "201c01772b7bb136"
  },
  {
   "cell_type": "code",
   "execution_count": null,
   "outputs": [],
   "source": [
    "cv_result = cv.fit(X_train, y_train)"
   ],
   "metadata": {
    "collapsed": false
   },
   "id": "3e2ca34a1527c737"
  },
  {
   "cell_type": "code",
   "execution_count": 18,
   "outputs": [
    {
     "data": {
      "text/plain": "{'batch_size': 256, 'epochs': 30, 'optimizer': 'Adam'}"
     },
     "execution_count": 18,
     "metadata": {},
     "output_type": "execute_result"
    }
   ],
   "source": [
    "cv_result.best_params_"
   ],
   "metadata": {
    "collapsed": false,
    "ExecuteTime": {
     "end_time": "2023-09-16T21:49:22.660509279Z",
     "start_time": "2023-09-16T21:49:22.610520274Z"
    }
   },
   "id": "1e2cf666be1c35a2"
  },
  {
   "cell_type": "code",
   "execution_count": null,
   "outputs": [],
   "source": [
    "# Проверим лучшие параметры\n",
    "model = build_clf()\n",
    "model.fit(X_train, y_train,\n",
    "                    epochs=30,\n",
    "                    batch_size=256,\n",
    "                    verbose=1,\n",
    "                    validation_data=(X_test, y_test)\n",
    "                    )\n",
    "loss, metric = model.evaluate(X_test, y_test, batch_size=256)"
   ],
   "metadata": {
    "collapsed": false
   },
   "id": "8f3f7dd1694c6746"
  },
  {
   "cell_type": "code",
   "execution_count": 25,
   "outputs": [
    {
     "data": {
      "text/plain": "0.34578555822372437"
     },
     "execution_count": 25,
     "metadata": {},
     "output_type": "execute_result"
    }
   ],
   "source": [
    "loss"
   ],
   "metadata": {
    "collapsed": false,
    "ExecuteTime": {
     "end_time": "2023-09-16T21:53:01.938224212Z",
     "start_time": "2023-09-16T21:53:01.884170920Z"
    }
   },
   "id": "fc903583a89aabf5"
  },
  {
   "cell_type": "code",
   "execution_count": 26,
   "outputs": [
    {
     "data": {
      "text/plain": "0.8816999793052673"
     },
     "execution_count": 26,
     "metadata": {},
     "output_type": "execute_result"
    }
   ],
   "source": [
    "metric"
   ],
   "metadata": {
    "collapsed": false,
    "ExecuteTime": {
     "end_time": "2023-09-16T21:53:03.839764611Z",
     "start_time": "2023-09-16T21:53:03.786806804Z"
    }
   },
   "id": "d515a47a0fa53e5d"
  },
  {
   "cell_type": "markdown",
   "source": [
    "**Удалось добиться улучшения модели путем увеличения количества эпох и размера блока итерации**"
   ],
   "metadata": {
    "collapsed": false
   },
   "id": "a0363e2a85a33148"
  }
 ],
 "metadata": {
  "kernelspec": {
   "display_name": "Python 3",
   "language": "python",
   "name": "python3"
  },
  "language_info": {
   "codemirror_mode": {
    "name": "ipython",
    "version": 2
   },
   "file_extension": ".py",
   "mimetype": "text/x-python",
   "name": "python",
   "nbconvert_exporter": "python",
   "pygments_lexer": "ipython2",
   "version": "2.7.6"
  }
 },
 "nbformat": 4,
 "nbformat_minor": 5
}
